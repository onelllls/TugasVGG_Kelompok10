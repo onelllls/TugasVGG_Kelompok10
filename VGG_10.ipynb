{
  "nbformat": 4,
  "nbformat_minor": 0,
  "metadata": {
    "colab": {
      "provenance": [],
      "gpuType": "T4"
    },
    "kernelspec": {
      "name": "python3",
      "display_name": "Python 3"
    },
    "language_info": {
      "name": "python"
    },
    "accelerator": "GPU"
  },
  "cells": [
    {
      "cell_type": "code",
      "execution_count": 1,
      "metadata": {
        "id": "ZHhOK02Zw5wF"
      },
      "outputs": [],
      "source": [
        "from keras.preprocessing.image import ImageDataGenerator\n",
        "from keras.applications.vgg16 import VGG16\n",
        "from keras.layers import Flatten, Dense, Dropout\n",
        "from keras.models import Model"
      ]
    },
    {
      "cell_type": "code",
      "source": [
        "path_train = '/content/drive/MyDrive/brain_tumor/Training'\n",
        "path_test = '/content/drive/MyDrive/brain_tumor/Testing'"
      ],
      "metadata": {
        "id": "73u2dWIgw7-E"
      },
      "execution_count": 2,
      "outputs": []
    },
    {
      "cell_type": "code",
      "source": [
        "train_datagen = ImageDataGenerator(\n",
        "    rescale=1.0/255.0,  # Normalisasi nilai piksel ke rentang [0, 1]\n",
        "    rotation_range=30,   # Rentang rotasi gambar\n",
        "    width_shift_range=0.2,  # Pergeseran horizontal\n",
        "    height_shift_range=0.2,  # Pergeseran vertikal\n",
        "    shear_range=0.2,    # Pencabangan\n",
        "    zoom_range=0.2,     # Zoom\n",
        "    horizontal_flip=True,  # Flip horizontal\n",
        "    fill_mode='nearest'  # Metode pengisian piksel saat augmentasi\n",
        ")"
      ],
      "metadata": {
        "id": "hecGrZzbxcEY"
      },
      "execution_count": 3,
      "outputs": []
    },
    {
      "cell_type": "code",
      "source": [
        "test_datagen = ImageDataGenerator(rescale=1.0/255.0)"
      ],
      "metadata": {
        "id": "1uRGp0Kyxgnv"
      },
      "execution_count": 4,
      "outputs": []
    },
    {
      "cell_type": "code",
      "source": [
        "train_generator = train_datagen.flow_from_directory(\n",
        "    path_train,\n",
        "    target_size=(224, 224),  # Ukuran gambar yang sesuai dengan model VGG\n",
        "    batch_size=32,\n",
        "    class_mode='categorical'  # Mode kelas untuk klasifikasi multi-kelas\n",
        ")"
      ],
      "metadata": {
        "colab": {
          "base_uri": "https://localhost:8080/"
        },
        "id": "CbCGvFu2xkED",
        "outputId": "ee88ee79-dcc7-41fe-f8de-fade97854729"
      },
      "execution_count": 5,
      "outputs": [
        {
          "output_type": "stream",
          "name": "stdout",
          "text": [
            "Found 2870 images belonging to 4 classes.\n"
          ]
        }
      ]
    },
    {
      "cell_type": "code",
      "source": [
        "test_generator = test_datagen.flow_from_directory(\n",
        "    path_test,\n",
        "    target_size=(224, 224),\n",
        "    batch_size=32,\n",
        "    class_mode='categorical'\n",
        ")"
      ],
      "metadata": {
        "colab": {
          "base_uri": "https://localhost:8080/"
        },
        "id": "mtSKlrlFxm65",
        "outputId": "d33bd654-d78e-4c0f-d524-5265989a0d55"
      },
      "execution_count": 6,
      "outputs": [
        {
          "output_type": "stream",
          "name": "stdout",
          "text": [
            "Found 394 images belonging to 4 classes.\n"
          ]
        }
      ]
    },
    {
      "cell_type": "markdown",
      "source": [
        "**VGG**"
      ],
      "metadata": {
        "id": "1VYi4ZPqxyhe"
      }
    },
    {
      "cell_type": "code",
      "source": [
        "base_model = VGG16(weights='imagenet', include_top=False, input_shape=(224, 224, 3))"
      ],
      "metadata": {
        "colab": {
          "base_uri": "https://localhost:8080/"
        },
        "id": "oyK0Fsrzx1W5",
        "outputId": "c33c0abd-9841-4773-b19c-c3746fea647c"
      },
      "execution_count": 7,
      "outputs": [
        {
          "output_type": "stream",
          "name": "stdout",
          "text": [
            "Downloading data from https://storage.googleapis.com/tensorflow/keras-applications/vgg16/vgg16_weights_tf_dim_ordering_tf_kernels_notop.h5\n",
            "58889256/58889256 [==============================] - 1s 0us/step\n"
          ]
        }
      ]
    },
    {
      "cell_type": "code",
      "source": [
        "x = Flatten()(base_model.output)\n",
        "x = Dense(512, activation='relu')(x)\n",
        "x = Dropout(0.5)(x)\n",
        "x = Dense(256, activation='relu')(x)\n",
        "x = Dropout(0.5)(x)\n",
        "output = Dense(4, activation='softmax')(x)"
      ],
      "metadata": {
        "id": "-EutSfJ3x8Mq"
      },
      "execution_count": 8,
      "outputs": []
    },
    {
      "cell_type": "code",
      "source": [
        "model = Model(inputs=base_model.input, outputs=output)"
      ],
      "metadata": {
        "id": "YZxg21hgx_wU"
      },
      "execution_count": 9,
      "outputs": []
    },
    {
      "cell_type": "code",
      "source": [
        "model.compile(loss='categorical_crossentropy',\n",
        "              optimizer='adam',\n",
        "              metrics=['accuracy'])"
      ],
      "metadata": {
        "id": "JfaTDBgByCHB"
      },
      "execution_count": 10,
      "outputs": []
    },
    {
      "cell_type": "code",
      "source": [
        "model.fit(\n",
        "    train_generator,\n",
        "    steps_per_epoch=train_generator.samples // train_generator.batch_size,\n",
        "    epochs=10,\n",
        "    validation_data=test_generator,\n",
        "    validation_steps=test_generator.samples // test_generator.batch_size\n",
        ")"
      ],
      "metadata": {
        "colab": {
          "base_uri": "https://localhost:8080/"
        },
        "id": "5sQf266eyIV1",
        "outputId": "e98b3ec9-bca4-46d5-87dc-d386baa37ead"
      },
      "execution_count": 11,
      "outputs": [
        {
          "output_type": "stream",
          "name": "stdout",
          "text": [
            "Epoch 1/10\n",
            "89/89 [==============================] - 579s 6s/step - loss: 1.4573 - accuracy: 0.2696 - val_loss: 1.4037 - val_accuracy: 0.2917\n",
            "Epoch 2/10\n",
            "89/89 [==============================] - 55s 613ms/step - loss: 1.3517 - accuracy: 0.2829 - val_loss: 1.4410 - val_accuracy: 0.1901\n",
            "Epoch 3/10\n",
            "89/89 [==============================] - 55s 617ms/step - loss: 1.3529 - accuracy: 0.2689 - val_loss: 1.4417 - val_accuracy: 0.1901\n",
            "Epoch 4/10\n",
            "89/89 [==============================] - 55s 616ms/step - loss: 1.3504 - accuracy: 0.2819 - val_loss: 1.4435 - val_accuracy: 0.2474\n",
            "Epoch 5/10\n",
            "89/89 [==============================] - 55s 622ms/step - loss: 1.3506 - accuracy: 0.2851 - val_loss: 1.4374 - val_accuracy: 0.2552\n",
            "Epoch 6/10\n",
            "89/89 [==============================] - 55s 617ms/step - loss: 1.3504 - accuracy: 0.2822 - val_loss: 1.4405 - val_accuracy: 0.2552\n",
            "Epoch 7/10\n",
            "89/89 [==============================] - 55s 622ms/step - loss: 1.3512 - accuracy: 0.2674 - val_loss: 1.4434 - val_accuracy: 0.2552\n",
            "Epoch 8/10\n",
            "89/89 [==============================] - 56s 631ms/step - loss: 1.3517 - accuracy: 0.2903 - val_loss: 1.4354 - val_accuracy: 0.1875\n",
            "Epoch 9/10\n",
            "89/89 [==============================] - 56s 624ms/step - loss: 1.3500 - accuracy: 0.2865 - val_loss: 1.4412 - val_accuracy: 0.1875\n",
            "Epoch 10/10\n",
            "89/89 [==============================] - 57s 634ms/step - loss: 1.3497 - accuracy: 0.2858 - val_loss: 1.4426 - val_accuracy: 0.1901\n"
          ]
        },
        {
          "output_type": "execute_result",
          "data": {
            "text/plain": [
              "<keras.src.callbacks.History at 0x7aa3fc6ee800>"
            ]
          },
          "metadata": {},
          "execution_count": 11
        }
      ]
    },
    {
      "cell_type": "code",
      "source": [
        "test_loss, test_acc = model.evaluate(test_generator)\n",
        "print(\"Akurasi pada data testing:\", test_acc)"
      ],
      "metadata": {
        "colab": {
          "base_uri": "https://localhost:8080/"
        },
        "id": "TnL4-m7vyLIU",
        "outputId": "b7a0fcf0-cdce-454f-e3d1-736aea82f76d"
      },
      "execution_count": 12,
      "outputs": [
        {
          "output_type": "stream",
          "name": "stdout",
          "text": [
            "13/13 [==============================] - 3s 268ms/step - loss: 1.4453 - accuracy: 0.1878\n",
            "Akurasi pada data testing: 0.1878172606229782\n"
          ]
        }
      ]
    }
  ]
}